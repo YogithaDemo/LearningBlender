{
 "cells": [
  {
   "cell_type": "code",
   "execution_count": 1,
   "metadata": {},
   "outputs": [
    {
     "name": "stdout",
     "output_type": "stream",
     "text": [
      "pygame 1.9.6\n",
      "Hello from the pygame community. https://www.pygame.org/contribute.html\n"
     ]
    },
    {
     "ename": "SystemExit",
     "evalue": "",
     "output_type": "error",
     "traceback": [
      "An exception has occurred, use %tb to see the full traceback.\n",
      "\u001b[1;31mSystemExit\u001b[0m\n"
     ]
    },
    {
     "name": "stderr",
     "output_type": "stream",
     "text": [
      "C:\\Users\\prasa\\Anaconda3\\lib\\site-packages\\IPython\\core\\interactiveshell.py:3333: UserWarning: To exit: use 'exit', 'quit', or Ctrl-D.\n",
      "  warn(\"To exit: use 'exit', 'quit', or Ctrl-D.\", stacklevel=1)\n"
     ]
    }
   ],
   "source": [
    "import pygame\n",
    "import sys\n",
    "import random\n",
    "import time\n",
    "\n",
    "pygame.init()\n",
    "screen_width = 500\n",
    "screen_height = 600\n",
    "puzzle_width = 500\n",
    "puzzle_height = puzzle_width\n",
    "red = (255,0,0)\n",
    "red_text = (200,0,0)\n",
    "green = (0,255,0)\n",
    "green_text = (0,200,0)\n",
    "blue = (0,0,255)\n",
    "white = (255,255,255)\n",
    "black = (0,0,0)\n",
    "game_sq = 50\n",
    "#puzzle = 3     # Difficulty level\n",
    "\n",
    "screen = pygame.display.set_mode((screen_width,screen_height))\n",
    "pygame.display.set_caption('Achanta') \n",
    "\n",
    "font1 = pygame.font.SysFont('chalkduster.ttf', 72)\n",
    "font2 = pygame.font.SysFont('chalkduster.ttf', 36)\n",
    "\n",
    "# generating grid\n",
    "def generate_grid():\n",
    "    screen.fill(white)\n",
    "    N = int(puzzle_width/game_sq)\n",
    "    for row in range(int(N)):\n",
    "        for column in range(int(N)):\n",
    "            x = row*game_sq\n",
    "            y = column*game_sq\n",
    "            pygame.draw.rect(screen,black,(x,y,game_sq,game_sq),1)\n",
    "    return\n",
    "\n",
    "ans_x = 0\n",
    "ans_y = 0\n",
    "difficulty = 1\n",
    "\n",
    "# generating the puzzle squares\n",
    "def generate_puzzle(puzzle):\n",
    "    global ans_x,ans_y,difficulty\n",
    "    ans_x = 0\n",
    "    ans_y = 0\n",
    "    puzzle = difficulty\n",
    "    N = int(puzzle_width/game_sq)\n",
    "    for ques in range(difficulty):\n",
    "        a = random.randint(1,N)\n",
    "        b = random.randint(1,N)\n",
    "        x = (a-1)*game_sq\n",
    "        y = (b-1)*game_sq\n",
    "        ans_x = (ans_x + x + game_sq//2)\n",
    "        ans_y = (ans_y + y + game_sq//2)\n",
    "        pygame.draw.rect(screen,blue,(x,y,game_sq,game_sq),0)\n",
    "\n",
    "    ans_x = ans_x/puzzle \n",
    "    ans_y = ans_y/puzzle\n",
    "    return\n",
    "\n",
    "game_over = False\n",
    "generate_grid()\n",
    "generate_puzzle(difficulty)\n",
    "score = 0.00\n",
    "score_box = font1.render('Score: {:0.2f}'.format(score), True, black)\n",
    "screen.blit(score_box, (0, puzzle_height))\n",
    "\n",
    "while not game_over:\n",
    "    \n",
    "    for event in pygame.event.get():\n",
    "        if event.type == pygame.QUIT:\n",
    "            pygame.quit()\n",
    "            sys.exit()\n",
    "        \n",
    "    pygame.display.update()"
   ]
  },
  {
   "cell_type": "code",
   "execution_count": null,
   "metadata": {},
   "outputs": [],
   "source": []
  }
 ],
 "metadata": {
  "kernelspec": {
   "display_name": "Python 3",
   "language": "python",
   "name": "python3"
  },
  "language_info": {
   "codemirror_mode": {
    "name": "ipython",
    "version": 3
   },
   "file_extension": ".py",
   "mimetype": "text/x-python",
   "name": "python",
   "nbconvert_exporter": "python",
   "pygments_lexer": "ipython3",
   "version": "3.7.3"
  }
 },
 "nbformat": 4,
 "nbformat_minor": 2
}
